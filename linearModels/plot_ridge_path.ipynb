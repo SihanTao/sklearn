{
  "cells": [
    {
      "cell_type": "code",
      "execution_count": null,
      "metadata": {
        "collapsed": false
      },
      "outputs": [],
      "source": [
        "%matplotlib inline"
      ]
    },
    {
      "cell_type": "markdown",
      "metadata": {},
      "source": [
        "\n",
        "# Plot Ridge coefficients as a function of the regularization\n",
        "\n",
        "Shows the effect of collinearity in the coefficients of an estimator.\n",
        "\n",
        ".. currentmodule:: sklearn.linear_model\n",
        "\n",
        ":class:`Ridge` Regression is the estimator used in this example.\n",
        "Each color represents a different feature of the\n",
        "coefficient vector, and this is displayed as a function of the\n",
        "regularization parameter.\n",
        "\n",
        "This example also shows the usefulness of applying Ridge regression\n",
        "to highly ill-conditioned matrices. For such matrices, a slight\n",
        "change in the target variable can cause huge variances in the\n",
        "calculated weights. In such cases, it is useful to set a certain\n",
        "regularization (alpha) to reduce this variation (noise).\n",
        "\n",
        "When alpha is very large, the regularization effect dominates the\n",
        "squared loss function and the coefficients tend to zero.\n",
        "At the end of the path, as alpha tends toward zero\n",
        "and the solution tends towards the ordinary least squares, coefficients\n",
        "exhibit big oscillations. In practise it is necessary to tune alpha\n",
        "in such a way that a balance is maintained between both.\n"
      ]
    },
    {
      "cell_type": "code",
      "execution_count": null,
      "metadata": {
        "collapsed": false
      },
      "outputs": [],
      "source": [
        "# Author: Fabian Pedregosa -- <fabian.pedregosa@inria.fr>\n",
        "# License: BSD 3 clause\n",
        "\n",
        "import numpy as np\n",
        "import matplotlib.pyplot as plt\n",
        "from sklearn import linear_model\n",
        "\n",
        "# X is the 10x10 Hilbert matrix\n",
        "X = 1.0 / (np.arange(1, 11) + np.arange(0, 10)[:, np.newaxis])\n",
        "y = np.ones(10)"
      ]
    },
    {
      "cell_type": "markdown",
      "metadata": {},
      "source": [
        "## Compute paths\n",
        "\n"
      ]
    },
    {
      "cell_type": "code",
      "execution_count": null,
      "metadata": {
        "collapsed": false
      },
      "outputs": [],
      "source": [
        "n_alphas = 200\n",
        "alphas = np.logspace(-10, -2, n_alphas)\n",
        "\n",
        "coefs = []\n",
        "for a in alphas:\n",
        "    ridge = linear_model.Ridge(alpha=a, fit_intercept=False)\n",
        "    ridge.fit(X, y)\n",
        "    coefs.append(ridge.coef_)"
      ]
    },
    {
      "cell_type": "markdown",
      "metadata": {},
      "source": [
        "## Display results\n",
        "\n"
      ]
    },
    {
      "cell_type": "code",
      "execution_count": null,
      "metadata": {
        "collapsed": false
      },
      "outputs": [],
      "source": [
        "ax = plt.gca()\n",
        "\n",
        "ax.plot(alphas, coefs)\n",
        "ax.set_xscale(\"log\")\n",
        "ax.set_xlim(ax.get_xlim()[::-1])  # reverse axis\n",
        "plt.xlabel(\"alpha\")\n",
        "plt.ylabel(\"weights\")\n",
        "plt.title(\"Ridge coefficients as a function of the regularization\")\n",
        "plt.axis(\"tight\")\n",
        "plt.show()"
      ]
    }
  ],
  "metadata": {
    "kernelspec": {
      "display_name": "Python 3",
      "language": "python",
      "name": "python3"
    },
    "language_info": {
      "codemirror_mode": {
        "name": "ipython",
        "version": 3
      },
      "file_extension": ".py",
      "mimetype": "text/x-python",
      "name": "python",
      "nbconvert_exporter": "python",
      "pygments_lexer": "ipython3",
      "version": "3.9.13"
    }
  },
  "nbformat": 4,
  "nbformat_minor": 0
}
